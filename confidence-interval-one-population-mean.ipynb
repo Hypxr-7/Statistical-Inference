{
 "cells": [
  {
   "cell_type": "markdown",
   "id": "93b4c7f94c0b5ff3",
   "metadata": {},
   "source": [
    "# Confidence Interval for One Population Mean\n",
    "\n",
    "Calculating the 95% confidence interval for the mean weight of all laptops"
   ]
  },
  {
   "metadata": {
    "ExecuteTime": {
     "end_time": "2024-10-25T10:16:03.617542Z",
     "start_time": "2024-10-25T10:16:03.592168Z"
    }
   },
   "cell_type": "code",
   "outputs": [
    {
     "name": "stdout",
     "output_type": "stream",
     "text": [
      "Confidence Interval: 1.859 - 2.195\n"
     ]
    }
   ],
   "execution_count": 1,
   "source": [
    "import pandas as pd\n",
    "import numpy as np\n",
    "import scipy.stats as stats\n",
    "\n",
    "df = pd.read_csv('data/laptop-prices.csv')\n",
    "\n",
    "sample = df['Weight'].sample(n=50).values.tolist()\n",
    "\n",
    "[lb, ub] = stats.t.interval(confidence=0.95, \n",
    "                            df=len(sample)-1, \n",
    "                            loc=np.mean(sample),  \n",
    "                            scale=stats.sem(sample))\n",
    "\n",
    "print(f'Confidence Interval: {lb:.3f} - {ub:.3f}')"
   ],
   "id": "397f2785b83b18b5"
  },
  {
   "metadata": {},
   "cell_type": "markdown",
   "source": "As shown we can be 95% confident that our population mean lies somewhere in the above range ",
   "id": "5c8062c719b160ee"
  }
 ],
 "metadata": {
  "kernelspec": {
   "display_name": "Python 3 (ipykernel)",
   "language": "python",
   "name": "python3"
  },
  "language_info": {
   "codemirror_mode": {
    "name": "ipython",
    "version": 3
   },
   "file_extension": ".py",
   "mimetype": "text/x-python",
   "name": "python",
   "nbconvert_exporter": "python",
   "pygments_lexer": "ipython3",
   "version": "3.12.2"
  }
 },
 "nbformat": 4,
 "nbformat_minor": 5
}
