{
 "cells": [
  {
   "metadata": {},
   "cell_type": "markdown",
   "source": [
    "# Two Population Mean _t_-test\n",
    "\n",
    "Calculating whether at a 5% significance level the screen sizes of laptops from HP and Dell are the same "
   ],
   "id": "c213efc787527aaf"
  },
  {
   "metadata": {
    "ExecuteTime": {
     "end_time": "2024-10-25T12:50:27.697518Z",
     "start_time": "2024-10-25T12:50:27.685118Z"
    }
   },
   "cell_type": "code",
   "outputs": [
    {
     "name": "stdout",
     "output_type": "stream",
     "text": [
      "The t-statistic is 0.37 with a P-value of 0.71\n",
      "Accept null hypothesis\n"
     ]
    }
   ],
   "execution_count": 31,
   "source": [
    "import  pandas as pd\n",
    "import scipy.stats as stats\n",
    "\n",
    "df = pd.read_csv('data/laptop-prices.csv')\n",
    "\n",
    "dell = df.loc[df['Company'] == 'Dell']\n",
    "hp = df.loc[df['Company'] == 'HP']\n",
    "\n",
    "n1 = 50\n",
    "n2 = 60\n",
    "alpha = 0.05\n",
    "\n",
    "sample_hp = hp['Inches'].sample(n1).values.tolist()\n",
    "sample_dell = dell['Inches'].sample(n2).values.tolist()\n",
    "\n",
    "t_test, p_value = stats.ttest_ind(sample_hp, sample_dell, equal_var=False)\n",
    "\n",
    "print(f'The t-statistic is {t_test:.2f} with a P-value of {p_value:.2f}')\n",
    "\n",
    "if p_value <= alpha:\n",
    "    print('Reject null hypothesis')\n",
    "else:\n",
    "    print('Accept null hypothesis')"
   ],
   "id": "849b3aed125b7965"
  }
 ],
 "metadata": {
  "kernelspec": {
   "display_name": "Python 3",
   "language": "python",
   "name": "python3"
  },
  "language_info": {
   "codemirror_mode": {
    "name": "ipython",
    "version": 2
   },
   "file_extension": ".py",
   "mimetype": "text/x-python",
   "name": "python",
   "nbconvert_exporter": "python",
   "pygments_lexer": "ipython2",
   "version": "2.7.6"
  }
 },
 "nbformat": 4,
 "nbformat_minor": 5
}
