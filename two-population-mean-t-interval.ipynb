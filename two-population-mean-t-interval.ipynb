{
 "cells": [
  {
   "metadata": {},
   "cell_type": "markdown",
   "source": [
    "# Two Population Mean _t_-interval\n",
    "\n",
    "Obtain a 95% for the mean difference of CPU frequency between Asus and Lenovo "
   ],
   "id": "95f9e7e0fbc53d62"
  },
  {
   "metadata": {
    "collapsed": true,
    "ExecuteTime": {
     "end_time": "2024-10-25T13:33:02.925583Z",
     "start_time": "2024-10-25T13:33:02.912719Z"
    }
   },
   "cell_type": "code",
   "source": [
    "import pandas as pd\n",
    "import numpy as np\n",
    "import scipy.stats as stats\n",
    "\n",
    "df = pd.read_csv('data/laptop-prices.csv')\n",
    "\n",
    "asus = df.loc[df['Company'] == 'Asus']\n",
    "lenovo = df.loc[df['Company'] == 'Lenovo']\n",
    "\n",
    "n1 = 40\n",
    "n2 = 55\n",
    "\n",
    "sample_asus = asus['CPU_freq'].sample(n1).values.tolist()\n",
    "sample_lenovo = lenovo['CPU_freq'].sample(n2).values.tolist()\n",
    "\n",
    "xbar1 = np.mean(sample_asus)\n",
    "xbar2 = np.mean(sample_lenovo)\n",
    "\n",
    "var1 = np.var(sample_asus)\n",
    "var2 = np.var(sample_lenovo)\n",
    "\n",
    "alpha = 0.05\n",
    "cv = stats.norm.ppf(1-alpha/2)\n",
    "\n",
    "ub = (xbar1 - xbar2) + cv*np.sqrt((var1/n1) + (var2/n2))\n",
    "lb = (xbar1 - xbar2) - cv*np.sqrt((var1/n1) + (var2/n2))\n",
    "\n",
    "print(f'Confidence Interval: [{lb:.2f} - {ub:.2f}]')"
   ],
   "id": "initial_id",
   "outputs": [
    {
     "name": "stdout",
     "output_type": "stream",
     "text": [
      "Confidence Interval: [-0.29 - 0.18]\n"
     ]
    }
   ],
   "execution_count": 6
  }
 ],
 "metadata": {
  "kernelspec": {
   "display_name": "Python 3",
   "language": "python",
   "name": "python3"
  },
  "language_info": {
   "codemirror_mode": {
    "name": "ipython",
    "version": 2
   },
   "file_extension": ".py",
   "mimetype": "text/x-python",
   "name": "python",
   "nbconvert_exporter": "python",
   "pygments_lexer": "ipython2",
   "version": "2.7.6"
  }
 },
 "nbformat": 4,
 "nbformat_minor": 5
}
