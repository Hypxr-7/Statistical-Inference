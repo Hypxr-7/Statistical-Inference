{
 "cells": [
  {
   "metadata": {},
   "cell_type": "markdown",
   "source": [
    "# Hypothesis Test for One Population Mean\n",
    "\n",
    "Calculating whether at a 5% significance level, the data provides sufficient evidence to support that the average price of all laptops is more than €1000"
   ],
   "id": "c4721c30343e823e"
  },
  {
   "metadata": {
    "collapsed": true,
    "ExecuteTime": {
     "end_time": "2024-10-25T11:39:30.648203Z",
     "start_time": "2024-10-25T11:39:30.621338Z"
    }
   },
   "cell_type": "code",
   "source": [
    "import pandas as pd\n",
    "import numpy as np\n",
    "import scipy.stats as stats\n",
    "\n",
    "df = pd.read_csv('data/laptop-prices.csv')\n",
    "sample = df['Price_euros'].sample(n=200).values.tolist()\n",
    "\n",
    "alpha = 0.05\n",
    "mu = 1000\n",
    "t_stat = (np.mean(sample) - mu) / (stats.sem(sample))\n",
    "cv = stats.t.ppf(1 - alpha, len(sample)-1)  # right tailed test\n",
    "\n",
    "print(f't-statistic: {t_stat:.3f}')\n",
    "print(f'Critical Value: {cv:.3f}')\n",
    "\n",
    "if t_stat > cv:\n",
    "    print('Reject null hypothesis')\n",
    "else:\n",
    "    print('Accept null hypothesis')"
   ],
   "id": "initial_id",
   "outputs": [
    {
     "name": "stdout",
     "output_type": "stream",
     "text": [
      "t-statistic: 2.326\n",
      "Critical Value: 1.653\n",
      "Reject null hypothesis\n"
     ]
    }
   ],
   "execution_count": 69
  }
 ],
 "metadata": {
  "kernelspec": {
   "display_name": "Python 3",
   "language": "python",
   "name": "python3"
  },
  "language_info": {
   "codemirror_mode": {
    "name": "ipython",
    "version": 2
   },
   "file_extension": ".py",
   "mimetype": "text/x-python",
   "name": "python",
   "nbconvert_exporter": "python",
   "pygments_lexer": "ipython2",
   "version": "2.7.6"
  }
 },
 "nbformat": 4,
 "nbformat_minor": 5
}
