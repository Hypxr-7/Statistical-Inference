{
 "cells": [
  {
   "metadata": {},
   "cell_type": "markdown",
   "source": [
    "# ANOVA\n",
    "\n",
    "Determining whether the mean RAM for 5 different brands is the same "
   ],
   "id": "104aab2ebf951cb1"
  },
  {
   "metadata": {
    "ExecuteTime": {
     "end_time": "2024-10-25T16:24:41.528468Z",
     "start_time": "2024-10-25T16:24:41.504335Z"
    }
   },
   "cell_type": "code",
   "source": [
    "import pandas as pd\n",
    "import scipy.stats as stats\n",
    "\n",
    "df = pd.read_csv('data/laptop-prices.csv')\n",
    "\n",
    "n1 = 15\n",
    "n2 = 25\n",
    "n3 = 25\n",
    "n4 = 20\n",
    "n5 = 15\n",
    "\n",
    "sample_apple = df.loc[df['Company'] == 'Apple']['Ram'].sample(n1).values.tolist() \n",
    "sample_asus = df.loc[df['Company'] == 'Asus']['Ram'].sample(n1).values.tolist()\n",
    "sample_dell = df.loc[df['Company'] == 'Dell']['Ram'].sample(n1).values.tolist()\n",
    "sample_hp = df.loc[df['Company'] == 'HP']['Ram'].sample(n1).values.tolist()\n",
    "sample_lenovo = df.loc[df['Company'] == 'Lenovo']['Ram'].sample(n1).values.tolist()\n",
    "\n",
    "alpha = 0.05\n",
    "f_stat, p_value = stats.f_oneway(sample_apple, sample_asus, sample_dell, sample_hp, sample_lenovo)\n",
    "\n",
    "print(f'The F-statistic is {f_stat:.2f} with a P-value of {p_value:.2f}')\n",
    "\n",
    "if p_value < alpha:\n",
    "    print('At least one of the mean of RAM is different')\n",
    "else:\n",
    "    print('All means are the same')"
   ],
   "id": "e251c9a01a35b88b",
   "outputs": [
    {
     "name": "stdout",
     "output_type": "stream",
     "text": [
      "The F-statistic is 1.15 with a P-value of 0.34\n",
      "All means are the same\n"
     ]
    }
   ],
   "execution_count": 10
  }
 ],
 "metadata": {
  "kernelspec": {
   "display_name": "Python 3",
   "language": "python",
   "name": "python3"
  },
  "language_info": {
   "codemirror_mode": {
    "name": "ipython",
    "version": 2
   },
   "file_extension": ".py",
   "mimetype": "text/x-python",
   "name": "python",
   "nbconvert_exporter": "python",
   "pygments_lexer": "ipython2",
   "version": "2.7.6"
  }
 },
 "nbformat": 4,
 "nbformat_minor": 5
}
